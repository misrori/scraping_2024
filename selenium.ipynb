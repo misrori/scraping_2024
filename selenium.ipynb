{
  "nbformat": 4,
  "nbformat_minor": 0,
  "metadata": {
    "colab": {
      "provenance": [],
      "authorship_tag": "ABX9TyMXmjKnKIBLcokR9K7LyRPl",
      "include_colab_link": true
    },
    "kernelspec": {
      "name": "python3",
      "display_name": "Python 3"
    },
    "language_info": {
      "name": "python"
    }
  },
  "cells": [
    {
      "cell_type": "markdown",
      "metadata": {
        "id": "view-in-github",
        "colab_type": "text"
      },
      "source": [
        "<a href=\"https://colab.research.google.com/github/misrori/scraping_2024/blob/main/selenium.ipynb\" target=\"_parent\"><img src=\"https://colab.research.google.com/assets/colab-badge.svg\" alt=\"Open In Colab\"/></a>"
      ]
    },
    {
      "cell_type": "code",
      "source": [
        "!apt-get update\n",
        "!apt install chromium-chromedriver\n",
        "!pip install selenium"
      ],
      "metadata": {
        "colab": {
          "base_uri": "https://localhost:8080/"
        },
        "id": "CL9s2ncSrNjc",
        "outputId": "932d10f6-6965-4592-fa61-b1f4bd25452a"
      },
      "execution_count": null,
      "outputs": [
        {
          "output_type": "stream",
          "name": "stdout",
          "text": [
            "\r0% [Working]\r            \rGet:1 https://cloud.r-project.org/bin/linux/ubuntu jammy-cran40/ InRelease [3,626 B]\n",
            "\r0% [Connecting to archive.ubuntu.com (185.125.190.82)] [Waiting for headers] [1 InRelease 3,626 B/3,\r0% [Connecting to archive.ubuntu.com (185.125.190.82)] [Waiting for headers] [Waiting for headers] [\r                                                                                                    \rGet:2 https://developer.download.nvidia.com/compute/cuda/repos/ubuntu2204/x86_64  InRelease [1,581 B]\n",
            "\r0% [Connecting to archive.ubuntu.com (185.125.190.82)] [Waiting for headers] [Waiting for headers] [\r0% [Connecting to archive.ubuntu.com (185.125.190.82)] [Waiting for headers] [Waiting for headers] [\r                                                                                                    \rGet:3 http://security.ubuntu.com/ubuntu jammy-security InRelease [129 kB]\n",
            "\r0% [Connecting to archive.ubuntu.com (185.125.190.82)] [3 InRelease 14.2 kB/129 kB 11%] [Waiting for\r                                                                                                    \rGet:4 https://r2u.stat.illinois.edu/ubuntu jammy InRelease [6,555 B]\n",
            "Hit:5 http://archive.ubuntu.com/ubuntu jammy InRelease\n",
            "Get:6 http://archive.ubuntu.com/ubuntu jammy-updates InRelease [128 kB]\n",
            "Get:7 https://developer.download.nvidia.com/compute/cuda/repos/ubuntu2204/x86_64  Packages [1,192 kB]\n",
            "Get:8 https://ppa.launchpadcontent.net/deadsnakes/ppa/ubuntu jammy InRelease [18.1 kB]\n",
            "Get:9 https://ppa.launchpadcontent.net/graphics-drivers/ppa/ubuntu jammy InRelease [24.3 kB]\n",
            "Get:10 https://r2u.stat.illinois.edu/ubuntu jammy/main all Packages [8,531 kB]\n",
            "Hit:11 https://ppa.launchpadcontent.net/ubuntugis/ppa/ubuntu jammy InRelease\n",
            "Get:12 http://archive.ubuntu.com/ubuntu jammy-backports InRelease [127 kB]\n",
            "Get:13 http://security.ubuntu.com/ubuntu jammy-security/main amd64 Packages [2,454 kB]\n",
            "Get:14 https://r2u.stat.illinois.edu/ubuntu jammy/main amd64 Packages [2,626 kB]\n",
            "Get:15 https://ppa.launchpadcontent.net/deadsnakes/ppa/ubuntu jammy/main amd64 Packages [32.9 kB]\n",
            "Get:16 http://security.ubuntu.com/ubuntu jammy-security/universe amd64 Packages [1,225 kB]\n",
            "Get:17 https://ppa.launchpadcontent.net/graphics-drivers/ppa/ubuntu jammy/main amd64 Packages [49.7 kB]\n",
            "Get:18 http://archive.ubuntu.com/ubuntu jammy-updates/main amd64 Packages [2,741 kB]\n",
            "Get:19 http://archive.ubuntu.com/ubuntu jammy-updates/restricted amd64 Packages [3,453 kB]\n",
            "Get:20 http://archive.ubuntu.com/ubuntu jammy-updates/universe amd64 Packages [1,514 kB]\n",
            "Fetched 24.3 MB in 4s (5,589 kB/s)\n",
            "Reading package lists... Done\n",
            "W: Skipping acquire of configured file 'main/source/Sources' as repository 'https://r2u.stat.illinois.edu/ubuntu jammy InRelease' does not seem to provide it (sources.list entry misspelt?)\n",
            "Reading package lists... Done\n",
            "Building dependency tree... Done\n",
            "Reading state information... Done\n",
            "The following additional packages will be installed:\n",
            "  apparmor chromium-browser libfuse3-3 liblzo2-2 libudev1 snapd squashfs-tools systemd-hwe-hwdb\n",
            "  udev\n",
            "Suggested packages:\n",
            "  apparmor-profiles-extra apparmor-utils fuse3 zenity | kdialog\n",
            "The following NEW packages will be installed:\n",
            "  apparmor chromium-browser chromium-chromedriver libfuse3-3 liblzo2-2 snapd squashfs-tools\n",
            "  systemd-hwe-hwdb udev\n",
            "The following packages will be upgraded:\n",
            "  libudev1\n",
            "1 upgraded, 9 newly installed, 0 to remove and 51 not upgraded.\n",
            "Need to get 30.2 MB of archives.\n",
            "After this operation, 123 MB of additional disk space will be used.\n",
            "Get:1 http://archive.ubuntu.com/ubuntu jammy-updates/main amd64 apparmor amd64 3.0.4-2ubuntu2.4 [598 kB]\n",
            "Get:2 http://archive.ubuntu.com/ubuntu jammy/main amd64 liblzo2-2 amd64 2.10-2build3 [53.7 kB]\n",
            "Get:3 http://archive.ubuntu.com/ubuntu jammy/main amd64 squashfs-tools amd64 1:4.5-3build1 [159 kB]\n",
            "Get:4 http://archive.ubuntu.com/ubuntu jammy-updates/main amd64 libudev1 amd64 249.11-0ubuntu3.12 [78.2 kB]\n",
            "Get:5 http://archive.ubuntu.com/ubuntu jammy-updates/main amd64 udev amd64 249.11-0ubuntu3.12 [1,557 kB]\n",
            "Get:6 http://archive.ubuntu.com/ubuntu jammy/main amd64 libfuse3-3 amd64 3.10.5-1build1 [81.2 kB]\n",
            "Get:7 http://archive.ubuntu.com/ubuntu jammy-updates/main amd64 snapd amd64 2.66.1+22.04 [27.6 MB]\n",
            "Get:8 http://archive.ubuntu.com/ubuntu jammy-updates/universe amd64 chromium-browser amd64 1:85.0.4183.83-0ubuntu2.22.04.1 [49.2 kB]\n",
            "Get:9 http://archive.ubuntu.com/ubuntu jammy-updates/universe amd64 chromium-chromedriver amd64 1:85.0.4183.83-0ubuntu2.22.04.1 [2,308 B]\n",
            "Get:10 http://archive.ubuntu.com/ubuntu jammy-updates/main amd64 systemd-hwe-hwdb all 249.11.5 [3,228 B]\n",
            "Fetched 30.2 MB in 2s (17.2 MB/s)\n",
            "Preconfiguring packages ...\n",
            "Selecting previously unselected package apparmor.\n",
            "(Reading database ... 123632 files and directories currently installed.)\n",
            "Preparing to unpack .../apparmor_3.0.4-2ubuntu2.4_amd64.deb ...\n",
            "Unpacking apparmor (3.0.4-2ubuntu2.4) ...\n",
            "Selecting previously unselected package liblzo2-2:amd64.\n",
            "Preparing to unpack .../liblzo2-2_2.10-2build3_amd64.deb ...\n",
            "Unpacking liblzo2-2:amd64 (2.10-2build3) ...\n",
            "Selecting previously unselected package squashfs-tools.\n",
            "Preparing to unpack .../squashfs-tools_1%3a4.5-3build1_amd64.deb ...\n",
            "Unpacking squashfs-tools (1:4.5-3build1) ...\n",
            "Preparing to unpack .../libudev1_249.11-0ubuntu3.12_amd64.deb ...\n",
            "Unpacking libudev1:amd64 (249.11-0ubuntu3.12) over (249.11-0ubuntu3.10) ...\n",
            "Setting up libudev1:amd64 (249.11-0ubuntu3.12) ...\n",
            "Selecting previously unselected package udev.\n",
            "(Reading database ... 123840 files and directories currently installed.)\n",
            "Preparing to unpack .../udev_249.11-0ubuntu3.12_amd64.deb ...\n",
            "Unpacking udev (249.11-0ubuntu3.12) ...\n",
            "Selecting previously unselected package libfuse3-3:amd64.\n",
            "Preparing to unpack .../libfuse3-3_3.10.5-1build1_amd64.deb ...\n",
            "Unpacking libfuse3-3:amd64 (3.10.5-1build1) ...\n",
            "Selecting previously unselected package snapd.\n",
            "Preparing to unpack .../snapd_2.66.1+22.04_amd64.deb ...\n",
            "Unpacking snapd (2.66.1+22.04) ...\n",
            "Setting up apparmor (3.0.4-2ubuntu2.4) ...\n",
            "Created symlink /etc/systemd/system/sysinit.target.wants/apparmor.service → /lib/systemd/system/apparmor.service.\n",
            "Setting up liblzo2-2:amd64 (2.10-2build3) ...\n",
            "Setting up squashfs-tools (1:4.5-3build1) ...\n",
            "Setting up udev (249.11-0ubuntu3.12) ...\n",
            "invoke-rc.d: could not determine current runlevel\n",
            "invoke-rc.d: policy-rc.d denied execution of start.\n",
            "Setting up libfuse3-3:amd64 (3.10.5-1build1) ...\n",
            "Setting up snapd (2.66.1+22.04) ...\n",
            "Created symlink /etc/systemd/system/multi-user.target.wants/snapd.apparmor.service → /lib/systemd/system/snapd.apparmor.service.\n",
            "Created symlink /etc/systemd/system/multi-user.target.wants/snapd.autoimport.service → /lib/systemd/system/snapd.autoimport.service.\n",
            "Created symlink /etc/systemd/system/multi-user.target.wants/snapd.core-fixup.service → /lib/systemd/system/snapd.core-fixup.service.\n",
            "Created symlink /etc/systemd/system/multi-user.target.wants/snapd.recovery-chooser-trigger.service → /lib/systemd/system/snapd.recovery-chooser-trigger.service.\n",
            "Created symlink /etc/systemd/system/multi-user.target.wants/snapd.seeded.service → /lib/systemd/system/snapd.seeded.service.\n",
            "Created symlink /etc/systemd/system/cloud-final.service.wants/snapd.seeded.service → /lib/systemd/system/snapd.seeded.service.\n",
            "Unit /lib/systemd/system/snapd.seeded.service is added as a dependency to a non-existent unit cloud-final.service.\n",
            "Created symlink /etc/systemd/system/multi-user.target.wants/snapd.service → /lib/systemd/system/snapd.service.\n",
            "Created symlink /etc/systemd/system/timers.target.wants/snapd.snap-repair.timer → /lib/systemd/system/snapd.snap-repair.timer.\n",
            "Created symlink /etc/systemd/system/sockets.target.wants/snapd.socket → /lib/systemd/system/snapd.socket.\n",
            "Created symlink /etc/systemd/system/final.target.wants/snapd.system-shutdown.service → /lib/systemd/system/snapd.system-shutdown.service.\n",
            "Selecting previously unselected package chromium-browser.\n",
            "(Reading database ... 124069 files and directories currently installed.)\n",
            "Preparing to unpack .../chromium-browser_1%3a85.0.4183.83-0ubuntu2.22.04.1_amd64.deb ...\n",
            "=> Installing the chromium snap\n",
            "==> Checking connectivity with the snap store\n",
            "===> System doesn't have a working snapd, skipping\n",
            "Unpacking chromium-browser (1:85.0.4183.83-0ubuntu2.22.04.1) ...\n",
            "Selecting previously unselected package chromium-chromedriver.\n",
            "Preparing to unpack .../chromium-chromedriver_1%3a85.0.4183.83-0ubuntu2.22.04.1_amd64.deb ...\n",
            "Unpacking chromium-chromedriver (1:85.0.4183.83-0ubuntu2.22.04.1) ...\n",
            "Selecting previously unselected package systemd-hwe-hwdb.\n",
            "Preparing to unpack .../systemd-hwe-hwdb_249.11.5_all.deb ...\n",
            "Unpacking systemd-hwe-hwdb (249.11.5) ...\n",
            "Setting up systemd-hwe-hwdb (249.11.5) ...\n",
            "Setting up chromium-browser (1:85.0.4183.83-0ubuntu2.22.04.1) ...\n",
            "update-alternatives: using /usr/bin/chromium-browser to provide /usr/bin/x-www-browser (x-www-browser) in auto mode\n",
            "update-alternatives: using /usr/bin/chromium-browser to provide /usr/bin/gnome-www-browser (gnome-www-browser) in auto mode\n",
            "Setting up chromium-chromedriver (1:85.0.4183.83-0ubuntu2.22.04.1) ...\n",
            "Processing triggers for udev (249.11-0ubuntu3.12) ...\n",
            "Processing triggers for hicolor-icon-theme (0.17-2) ...\n",
            "Processing triggers for libc-bin (2.35-0ubuntu3.4) ...\n",
            "/sbin/ldconfig.real: /usr/local/lib/libtbb.so.12 is not a symbolic link\n",
            "\n",
            "/sbin/ldconfig.real: /usr/local/lib/libtcm.so.1 is not a symbolic link\n",
            "\n",
            "/sbin/ldconfig.real: /usr/local/lib/libtbbmalloc_proxy.so.2 is not a symbolic link\n",
            "\n",
            "/sbin/ldconfig.real: /usr/local/lib/libhwloc.so.15 is not a symbolic link\n",
            "\n",
            "/sbin/ldconfig.real: /usr/local/lib/libtbbmalloc.so.2 is not a symbolic link\n",
            "\n",
            "/sbin/ldconfig.real: /usr/local/lib/libur_adapter_level_zero.so.0 is not a symbolic link\n",
            "\n",
            "/sbin/ldconfig.real: /usr/local/lib/libtbbbind_2_5.so.3 is not a symbolic link\n",
            "\n",
            "/sbin/ldconfig.real: /usr/local/lib/libtcm_debug.so.1 is not a symbolic link\n",
            "\n",
            "/sbin/ldconfig.real: /usr/local/lib/libumf.so.0 is not a symbolic link\n",
            "\n",
            "/sbin/ldconfig.real: /usr/local/lib/libtbbbind_2_0.so.3 is not a symbolic link\n",
            "\n",
            "/sbin/ldconfig.real: /usr/local/lib/libtbbbind.so.3 is not a symbolic link\n",
            "\n",
            "/sbin/ldconfig.real: /usr/local/lib/libur_adapter_opencl.so.0 is not a symbolic link\n",
            "\n",
            "/sbin/ldconfig.real: /usr/local/lib/libur_loader.so.0 is not a symbolic link\n",
            "\n",
            "Processing triggers for man-db (2.10.2-1) ...\n",
            "Processing triggers for dbus (1.12.20-2ubuntu4.1) ...\n",
            "Collecting selenium\n",
            "  Downloading selenium-4.27.1-py3-none-any.whl.metadata (7.1 kB)\n",
            "Requirement already satisfied: urllib3<3,>=1.26 in /usr/local/lib/python3.10/dist-packages (from urllib3[socks]<3,>=1.26->selenium) (2.2.3)\n",
            "Collecting trio~=0.17 (from selenium)\n",
            "  Downloading trio-0.27.0-py3-none-any.whl.metadata (8.6 kB)\n",
            "Collecting trio-websocket~=0.9 (from selenium)\n",
            "  Downloading trio_websocket-0.11.1-py3-none-any.whl.metadata (4.7 kB)\n",
            "Requirement already satisfied: certifi>=2021.10.8 in /usr/local/lib/python3.10/dist-packages (from selenium) (2024.8.30)\n",
            "Requirement already satisfied: typing_extensions~=4.9 in /usr/local/lib/python3.10/dist-packages (from selenium) (4.12.2)\n",
            "Requirement already satisfied: websocket-client~=1.8 in /usr/local/lib/python3.10/dist-packages (from selenium) (1.8.0)\n",
            "Requirement already satisfied: attrs>=23.2.0 in /usr/local/lib/python3.10/dist-packages (from trio~=0.17->selenium) (24.2.0)\n",
            "Collecting sortedcontainers (from trio~=0.17->selenium)\n",
            "  Downloading sortedcontainers-2.4.0-py2.py3-none-any.whl.metadata (10 kB)\n",
            "Requirement already satisfied: idna in /usr/local/lib/python3.10/dist-packages (from trio~=0.17->selenium) (3.10)\n",
            "Collecting outcome (from trio~=0.17->selenium)\n",
            "  Downloading outcome-1.3.0.post0-py2.py3-none-any.whl.metadata (2.6 kB)\n",
            "Requirement already satisfied: sniffio>=1.3.0 in /usr/local/lib/python3.10/dist-packages (from trio~=0.17->selenium) (1.3.1)\n",
            "Requirement already satisfied: exceptiongroup in /usr/local/lib/python3.10/dist-packages (from trio~=0.17->selenium) (1.2.2)\n",
            "Collecting wsproto>=0.14 (from trio-websocket~=0.9->selenium)\n",
            "  Downloading wsproto-1.2.0-py3-none-any.whl.metadata (5.6 kB)\n",
            "Requirement already satisfied: pysocks!=1.5.7,<2.0,>=1.5.6 in /usr/local/lib/python3.10/dist-packages (from urllib3[socks]<3,>=1.26->selenium) (1.7.1)\n",
            "Requirement already satisfied: h11<1,>=0.9.0 in /usr/local/lib/python3.10/dist-packages (from wsproto>=0.14->trio-websocket~=0.9->selenium) (0.14.0)\n",
            "Downloading selenium-4.27.1-py3-none-any.whl (9.7 MB)\n",
            "\u001b[2K   \u001b[90m━━━━━━━━━━━━━━━━━━━━━━━━━━━━━━━━━━━━━━━━\u001b[0m \u001b[32m9.7/9.7 MB\u001b[0m \u001b[31m56.4 MB/s\u001b[0m eta \u001b[36m0:00:00\u001b[0m\n",
            "\u001b[?25hDownloading trio-0.27.0-py3-none-any.whl (481 kB)\n",
            "\u001b[2K   \u001b[90m━━━━━━━━━━━━━━━━━━━━━━━━━━━━━━━━━━━━━━━━\u001b[0m \u001b[32m481.7/481.7 kB\u001b[0m \u001b[31m29.8 MB/s\u001b[0m eta \u001b[36m0:00:00\u001b[0m\n",
            "\u001b[?25hDownloading trio_websocket-0.11.1-py3-none-any.whl (17 kB)\n",
            "Downloading wsproto-1.2.0-py3-none-any.whl (24 kB)\n",
            "Downloading outcome-1.3.0.post0-py2.py3-none-any.whl (10 kB)\n",
            "Downloading sortedcontainers-2.4.0-py2.py3-none-any.whl (29 kB)\n",
            "Installing collected packages: sortedcontainers, wsproto, outcome, trio, trio-websocket, selenium\n",
            "Successfully installed outcome-1.3.0.post0 selenium-4.27.1 sortedcontainers-2.4.0 trio-0.27.0 trio-websocket-0.11.1 wsproto-1.2.0\n"
          ]
        }
      ]
    },
    {
      "cell_type": "code",
      "source": [
        "from selenium import webdriver\n",
        "from selenium.webdriver.common.by import By\n",
        "\n",
        "chrome_options = webdriver.ChromeOptions()\n",
        "chrome_options.add_argument('--headless')\n",
        "chrome_options.add_argument('--no-sandbox')\n",
        "chrome_options.add_argument('--disable-dev-shm-usage')\n",
        "\n",
        "# Add custom headers\n",
        "chrome_options.add_argument(\"user-agent=Mozilla/5.0 (Windows NT 10.0; Win64; x64) AppleWebKit/537.36 (KHTML, like Gecko) Chrome/85.0.4183.83 Safari/537.36\")\n",
        "chrome_options.add_argument(\"accept=text/html,application/xhtml+xml,application/xml;q=0.9,image/avif,image/webp,*/*;q=0.8\")\n",
        "chrome_options.add_argument(\"accept-encoding=gzip, deflate, br\")\n",
        "chrome_options.add_argument(\"accept-language=en-US,en;q=0.9\")\n",
        "chrome_options.add_argument(\"referer=https://www.google.com/\")\n",
        "chrome_options.add_argument(\"sec-ch-ua-platform=Windows\")\n",
        "chrome_options.add_argument(\"sec-fetch-dest=document\")\n",
        "chrome_options.add_argument(\"sec-fetch-mode=navigate\")\n",
        "chrome_options.add_argument(\"sec-fetch-site=same-origin\")\n",
        "chrome_options.add_argument(\"sec-fetch-user=?1\")\n",
        "chrome_options.add_argument(\"upgrade-insecure-requests=1\")\n",
        "\n",
        "driver = webdriver.Chrome(options=chrome_options)\n"
      ],
      "metadata": {
        "id": "nf-J9BJaqCal"
      },
      "execution_count": null,
      "outputs": []
    },
    {
      "cell_type": "code",
      "source": [
        "driver.get('https://www.geekwire.com')\n",
        "print(driver.title)"
      ],
      "metadata": {
        "colab": {
          "base_uri": "https://localhost:8080/"
        },
        "id": "OykGzzG4meLr",
        "outputId": "3582a587-d36e-4d19-a12a-54cb1716d225"
      },
      "execution_count": null,
      "outputs": [
        {
          "output_type": "stream",
          "name": "stdout",
          "text": [
            "GeekWire – Breaking News in Technology & Business\n"
          ]
        }
      ]
    },
    {
      "cell_type": "code",
      "source": [
        "driver.find_element(By.CLASS_NAME, \"entry-title\").text"
      ],
      "metadata": {
        "colab": {
          "base_uri": "https://localhost:8080/",
          "height": 36
        },
        "id": "SmfhMelwL3kF",
        "outputId": "79ce1805-dc66-40e2-e2da-4b8d9558aea6"
      },
      "execution_count": null,
      "outputs": [
        {
          "output_type": "execute_result",
          "data": {
            "text/plain": [
              "'Hidden AI revolution: Why leaders must address covert adoption of new tech'"
            ],
            "application/vnd.google.colaboratory.intrinsic+json": {
              "type": "string"
            }
          },
          "metadata": {},
          "execution_count": 12
        }
      ]
    },
    {
      "cell_type": "code",
      "source": [
        "[x.text for x in driver.find_elements(By.CLASS_NAME, \"entry-title\")]"
      ],
      "metadata": {
        "colab": {
          "base_uri": "https://localhost:8080/"
        },
        "id": "LrZIEJnxLHlF",
        "outputId": "5557c13a-716e-4884-f944-fc9c764326d2"
      },
      "execution_count": null,
      "outputs": [
        {
          "output_type": "execute_result",
          "data": {
            "text/plain": [
              "['Hidden AI revolution: Why leaders must address covert adoption of new tech',\n",
              " 'Week in Review: Most popular stories on GeekWire for the week of Dec. 1, 2024',\n",
              " 'Partnering for Health: Regence BlueShield and ALLtech’s Impact on Washington’s Tech Industry',\n",
              " 'GeekWire Podcast: Amazon Nova, the future of AI, and more from the AWS re:Invent show floor',\n",
              " 'Seattle-area fintech startup Finagraph merges with LeaseCrunch',\n",
              " 'Ask the Expert: What are my career options at a slow-growing software-as-a-service company?',\n",
              " 'Unknown system outage impacts vehicle licensing offices across Washington state',\n",
              " 'Smartsheet revenue up 17% to $286.9M in Q3 as enterprise giant preps to go private',\n",
              " 'First Mode explores strategic alternatives as Anglo American stops funding clean energy company',\n",
              " 'How do you tame AI? Scientist sees a need for regulating bots like drugs or airplanes',\n",
              " 'An ethicist’s take: Is it OK to lie to an AI chatbot during a job interview?',\n",
              " 'AI overwhelmingly prefers white and male job candidates in new test of resume-screening bias',\n",
              " 'Potato’s AI research assistant digs through publications for science experiment inspiration',\n",
              " 'Now here’s a PC name for a snowplow in a tech town: Ctrl + Salt + Delete',\n",
              " 'Microsoft releases preview of voice-enabled ‘Copilot Vision’ AI browsing companion for Edge',\n",
              " 'Unknown system outage impacts vehicle licensing offices across Washington state',\n",
              " '‘Chamber of Connection’ launches in Seattle to help tech transplants and others adjust to their new city',\n",
              " 'Seattle lawmakers deny capital gains tax, broaden use of payroll tax revenue from big businesses',\n",
              " 'Seattle mayor, who sits on a federal AI panel, says he’ll seek ways to work with Trump administration',\n",
              " 'Redmond, Wash., police partnering with Brinc on drone tech as part of first responder program',\n",
              " 'Uncommon Thinkers: TerraPower Isotopes’ Chris Dunckley spearheads pursuit of ultra-rare element',\n",
              " 'GeekWire Podcast: Amazon Nova, the future of AI, and more from the AWS re:Invent show floor',\n",
              " 'AI, Google Docs, and the messiness of innovation, with Microsoft Deputy CTO Sam Schillace',\n",
              " 'Podcast: Elon Musk’s problem with Microsoft; What the GeekWire 200 says about the startup scene',\n",
              " 'How Amazon is adapting to the TikTok generation, and what it says about the state of Prime',\n",
              " 'Tech Moves: F5 and Esper hire marketing leaders; Amperity adds chief revenue officer',\n",
              " 'Inflection, a Seattle startup that automates marketing for B2B companies, raises $7.6M',\n",
              " 'A taste of space on Earth: Astronaut training startup raises $4M to market way-out experiences',\n",
              " 'Jeff Bezos is ‘very optimistic’ about Trump — and that Blue Origin will be bigger than Amazon',\n",
              " 'Amazon chipping in $10M in tips for customers who thank their delivery drivers during the holidays',\n",
              " 'Amazon expands Bedrock with new AI model marketplace, a day after unveiling its own ‘Nova’',\n",
              " 'How Amazon’s new AI-powered Kindle Scribe summarized my handwritten review of the device',\n",
              " '‘Chamber of Connection’ launches in Seattle to help tech transplants and others adjust to their new city',\n",
              " 'Veeam Software, which recently relocated its HQ to the Seattle area, reaches $15B valuation',\n",
              " 'A list of logistics startups in Seattle, a ‘world-class’ hub for supply chain software talent',\n",
              " 'Used e-bike trade-in program at Rad Power Bikes stores aims to broaden electric mobility access',\n",
              " 'Continental sells Seattle-based fleet management software company Zonar Systems',\n",
              " '‘An easy button to get off Windows’: Amazon’s new AI moves Microsoft apps to Linux',\n",
              " 'Microsoft asks FTC to address alleged information leak amid reported antitrust investigation',\n",
              " 'Amazon unveils ‘Nova’ AI models, looking to make its mark in the generative AI revolution',\n",
              " 'A mom and son with tech roots at the University of Washington launch trip-mapping startup',\n",
              " 'Apple makes surprise cameo at AWS re:Invent']"
            ]
          },
          "metadata": {},
          "execution_count": 13
        }
      ]
    },
    {
      "cell_type": "code",
      "source": [
        "html_content = driver.page_source\n",
        "\n",
        "with open('page_content.html', 'w', encoding='utf-8') as file:\n",
        "    file.write(html_content)"
      ],
      "metadata": {
        "id": "f-RQi88GszfO"
      },
      "execution_count": null,
      "outputs": []
    },
    {
      "cell_type": "code",
      "source": [
        "from bs4 import BeautifulSoup\n",
        "\n",
        "# Retrieve the HTML content\n",
        "html_content = driver.page_source\n",
        "\n",
        "# Parse with BeautifulSoup\n",
        "soup = BeautifulSoup(html_content, 'html.parser')"
      ],
      "metadata": {
        "id": "ESdeyUHpm3Vj"
      },
      "execution_count": null,
      "outputs": []
    },
    {
      "cell_type": "code",
      "source": [
        "[x.text for x in soup.select('.entry-title')]"
      ],
      "metadata": {
        "colab": {
          "base_uri": "https://localhost:8080/"
        },
        "id": "uN-wc7HZmgTe",
        "outputId": "6f817642-18f8-493f-be72-492bfffb2edf"
      },
      "execution_count": null,
      "outputs": [
        {
          "output_type": "execute_result",
          "data": {
            "text/plain": [
              "['Microsoft earnings preview: All eyes on AI — here are the numbers to watch for MSFT Q1-FY25',\n",
              " 'Amazon to shut down Kindle Vella serial book platform, saying it ‘hasn’t caught on as we’d hoped’',\n",
              " 'Explore the Bring Your Own Number (BYON) API',\n",
              " 'Inside the ‘Stranger Things’ house that a Seattle real estate startup bought and turned into an Airbnb',\n",
              " 'Jeff Bezos says ‘no quid pro quo of any kind’ in decision to end Washington Post endorsements',\n",
              " 'The Robot Trader: Avenix Fzco’s Majestic EA Hits the Forex Scene',\n",
              " 'Seattle startup Moondream, led by AWS vets, raises $4.5M for vision language model software',\n",
              " 'F5 reports $747M in quarterly revenue as stock surges 10%; company names new CFO',\n",
              " 'Tech Moves: Amazon grocery exec will join Marc Lore’s Wonder; AI2 Incubator adds venture partner',\n",
              " 'Electric boating insiders react to Pure Watercraft’s demise as court documents reveal sell-off details',\n",
              " 'Potato’s AI research assistant digs through publications for science experiment inspiration',\n",
              " 'Seattle startup Read AI raises $50M to fuel ‘copilot everywhere’ vision for enterprise software',\n",
              " 'Potato’s AI research assistant digs through publications for science experiment inspiration',\n",
              " 'Inside Seattle’s new Sweetgreen restaurant, where a large robot helps the humans make your salad',\n",
              " 'These wearable cameras use AI to detect and prevent medication errors in operating rooms',\n",
              " 'As Americans lose billions of dollars to digital scams, startups turn to AI for solutions',\n",
              " 'Week in Review: Most popular stories on GeekWire for the week of Oct. 20, 2024',\n",
              " 'Space shots: A tangled web of speculation surrounds Boeing, Blue Origin and Bezos',\n",
              " 'Initiative to repeal Washington’s capital gains tax pits education funding against business concerns',\n",
              " 'California governor visits Seattle for rally against ballot measure that aims to undo climate efforts',\n",
              " 'TSA introduces new facial recognition tech  at Seattle airport to speed security screening',\n",
              " 'Here’s what Tim Walz said at a Seattle fundraiser, according to tech CEO who co-hosted event',\n",
              " 'Podcast: Salesforce CEO Marc Benioff on AI, Microsoft, Seattle tech, and the future of humanity',\n",
              " 'Report: Gravity Payments founder Dan Price charged with rape in California, denies allegations',\n",
              " 'Podcast: Salesforce CEO Marc Benioff on AI, Microsoft, Seattle tech, and the future of humanity',\n",
              " 'Podcast: Uber + Expedia? Ballmer on 60 Minutes; 1980s Silicon Valley revisited; What’s next for AI',\n",
              " 'Podcast: Amazon puts AI in delivery vans; Ex-AMZN exec Dave Clark’s new startup; AI vs. cancer',\n",
              " 'Talking with AI: Microsoft Copilot guest-hosts the GeekWire Podcast',\n",
              " 'Amazon’s top grocery stores exec Tony Hoggett is leaving in big exit from senior leadership team',\n",
              " 'Jeff Bezos blamed for spiking Washington Post’s presidential endorsement of Kamala Harris',\n",
              " 'Is the world ready for autonomous AI? Salesforce CEO Marc Benioff makes the case for agents',\n",
              " 'It’s sad Kurt Cobain ‘never got to see GPS,’ actress Helen Mirren says of the late rock star',\n",
              " 'Startup radar: Early stage tech companies making moves in Seattle',\n",
              " 'Microsoft CEO Satya Nadella’s comp tops $79M as stock soars; cash bonus cut in half on security woes',\n",
              " 'Microsoft signs deal with ocean carbon removal project operating on Washington’s coast',\n",
              " 'Seattle’s Electric Era deploys EV chargers at Costco after opening big, new HQ – take a look inside',\n",
              " 'Virtual assistant for HR: Google’s AI-focused venture fund invests in Seattle startup Cascade AI',\n",
              " 'The top three AI challenges and trends on the mind of Microsoft Research’s president',\n",
              " 'Crypto startup Coinme alleges Coinstar misused trade secrets for competing product at kiosks',\n",
              " 'Blue Origin lofts new New Shepard capsule into space for test run before carrying crew',\n",
              " 'Inside Seattle’s new Sweetgreen restaurant, where a large robot helps the humans make your salad',\n",
              " 'Bill Gates reportedly gives $50M to support Kamala Harris’ presidential campaign',\n",
              " 'These wearable cameras use AI to detect and prevent medication errors in operating rooms']"
            ]
          },
          "metadata": {},
          "execution_count": 21
        }
      ]
    },
    {
      "cell_type": "code",
      "source": [
        "driver.quit()"
      ],
      "metadata": {
        "id": "SArYNY7JsQDa"
      },
      "execution_count": null,
      "outputs": []
    },
    {
      "cell_type": "code",
      "source": [],
      "metadata": {
        "id": "Eq8vFplJMfEB"
      },
      "execution_count": null,
      "outputs": []
    }
  ]
}