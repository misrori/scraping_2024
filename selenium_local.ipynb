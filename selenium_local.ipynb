{
  "cells": [
    {
      "cell_type": "markdown",
      "metadata": {
        "id": "view-in-github",
        "colab_type": "text"
      },
      "source": [
        "<a href=\"https://colab.research.google.com/github/misrori/scraping_2024/blob/main/selenium_local.ipynb\" target=\"_parent\"><img src=\"https://colab.research.google.com/assets/colab-badge.svg\" alt=\"Open In Colab\"/></a>"
      ]
    },
    {
      "cell_type": "code",
      "execution_count": null,
      "id": "21e6bf22",
      "metadata": {
        "id": "21e6bf22",
        "outputId": "8866a5ba-511f-45f6-a32f-6e753482dce0"
      },
      "outputs": [
        {
          "name": "stdout",
          "output_type": "stream",
          "text": [
            "Requirement already satisfied: selenium in /home/mihaly/anaconda3/lib/python3.9/site-packages (4.15.2)\n",
            "Requirement already satisfied: trio~=0.17 in /home/mihaly/anaconda3/lib/python3.9/site-packages (from selenium) (0.23.1)\n",
            "Requirement already satisfied: urllib3[socks]<3,>=1.26 in /home/mihaly/anaconda3/lib/python3.9/site-packages (from selenium) (1.26.9)\n",
            "Requirement already satisfied: trio-websocket~=0.9 in /home/mihaly/anaconda3/lib/python3.9/site-packages (from selenium) (0.11.1)\n",
            "Requirement already satisfied: certifi>=2021.10.8 in /home/mihaly/anaconda3/lib/python3.9/site-packages (from selenium) (2021.10.8)\n",
            "Requirement already satisfied: outcome in /home/mihaly/anaconda3/lib/python3.9/site-packages (from trio~=0.17->selenium) (1.3.0.post0)\n",
            "Requirement already satisfied: idna in /home/mihaly/anaconda3/lib/python3.9/site-packages (from trio~=0.17->selenium) (3.3)\n",
            "Requirement already satisfied: attrs>=20.1.0 in /home/mihaly/anaconda3/lib/python3.9/site-packages (from trio~=0.17->selenium) (21.4.0)\n",
            "Requirement already satisfied: sniffio>=1.3.0 in /home/mihaly/anaconda3/lib/python3.9/site-packages (from trio~=0.17->selenium) (1.3.0)\n",
            "Requirement already satisfied: exceptiongroup>=1.0.0rc9 in /home/mihaly/anaconda3/lib/python3.9/site-packages (from trio~=0.17->selenium) (1.2.0)\n",
            "Requirement already satisfied: sortedcontainers in /home/mihaly/anaconda3/lib/python3.9/site-packages (from trio~=0.17->selenium) (2.4.0)\n",
            "Requirement already satisfied: wsproto>=0.14 in /home/mihaly/anaconda3/lib/python3.9/site-packages (from trio-websocket~=0.9->selenium) (1.2.0)\n",
            "Requirement already satisfied: PySocks!=1.5.7,<2.0,>=1.5.6 in /home/mihaly/anaconda3/lib/python3.9/site-packages (from urllib3[socks]<3,>=1.26->selenium) (1.7.1)\n",
            "Requirement already satisfied: h11<1,>=0.9.0 in /home/mihaly/anaconda3/lib/python3.9/site-packages (from wsproto>=0.14->trio-websocket~=0.9->selenium) (0.14.0)\n"
          ]
        }
      ],
      "source": [
        "!pip install selenium"
      ]
    },
    {
      "cell_type": "code",
      "execution_count": null,
      "id": "ff8b004f",
      "metadata": {
        "id": "ff8b004f"
      },
      "outputs": [],
      "source": [
        "from selenium import webdriver\n",
        "import time"
      ]
    },
    {
      "cell_type": "code",
      "execution_count": null,
      "id": "02101df8",
      "metadata": {
        "id": "02101df8"
      },
      "outputs": [],
      "source": [
        "driver = webdriver.Chrome()\n",
        "driver.get('https://google.com')\n",
        "driver.maximize_window()\n",
        "time.sleep(10)\n",
        "driver.close()"
      ]
    },
    {
      "cell_type": "code",
      "execution_count": null,
      "id": "68ced7df",
      "metadata": {
        "id": "68ced7df"
      },
      "outputs": [],
      "source": []
    },
    {
      "cell_type": "code",
      "execution_count": null,
      "id": "a795446b",
      "metadata": {
        "id": "a795446b"
      },
      "outputs": [],
      "source": []
    },
    {
      "cell_type": "code",
      "execution_count": null,
      "id": "e77e1c40",
      "metadata": {
        "id": "e77e1c40"
      },
      "outputs": [],
      "source": [
        "from selenium.webdriver.common.keys import Keys\n",
        "from selenium.webdriver.common.by import By\n",
        "\n",
        "driver = webdriver.Chrome()\n",
        "driver.get('https://www.economist.com/finance-and-economics')\n",
        "driver.maximize_window()\n",
        "time.sleep(10)\n",
        "\n",
        "html = driver.find_element(By.TAG_NAME, 'html')\n",
        "html.send_keys(Keys.END)\n",
        "\n",
        "time.sleep(4)\n",
        "for i in range(5):\n",
        "    driver.find_element(By.CLASS_NAME ,\"ds-pagination__nav-link\").click()\n",
        "    time.sleep(4)\n",
        "    html = driver.find_element(By.TAG_NAME, 'html')\n",
        "    html.send_keys(Keys.END)\n",
        "    page = driver.page_source\n",
        "    my_file = open(f'data_html/{i}_economist.html', \"w\")\n",
        "    my_file.write(page)\n",
        "    my_file.close()"
      ]
    },
    {
      "cell_type": "code",
      "execution_count": null,
      "id": "f27aa48b",
      "metadata": {
        "id": "f27aa48b"
      },
      "outputs": [],
      "source": [
        "from selenium.webdriver.common.keys import Keys\n",
        "from selenium.webdriver.common.by import By\n",
        "\n",
        "driver = webdriver.Chrome()\n",
        "driver.get('https://www.economist.com/finance-and-economics')\n",
        "driver.maximize_window()\n",
        "time.sleep(10)\n",
        "\n",
        "html = driver.find_element(By.TAG_NAME, 'html')\n",
        "html.send_keys(Keys.END)\n",
        "\n",
        "time.sleep(4)\n",
        "for i in range(5):\n",
        "    driver.find_element(By.CLASS_NAME ,\"ds-pagination__item-link\").click()\n",
        "    time.sleep(4)\n",
        "    html = driver.find_element(By.TAG_NAME, 'html')\n",
        "    html.send_keys(Keys.END)\n",
        "    page = driver.page_source\n",
        ""
      ]
    },
    {
      "cell_type": "code",
      "execution_count": null,
      "id": "76bfb971",
      "metadata": {
        "id": "76bfb971"
      },
      "outputs": [],
      "source": [
        "from selenium import webdriver\n",
        "import time\n",
        "from selenium.webdriver.support.ui import WebDriverWait\n",
        "\n",
        "from selenium.webdriver.common.keys import Keys\n",
        "\n",
        "driver = webdriver.Chrome()\n",
        "driver.get(\"https://cointelegraph.com/\")\n",
        "driver.fullscreen_window()\n",
        "\n",
        "time.sleep(10)\n",
        "\n",
        "\n",
        "for i in range(20):\n",
        "    html = driver.find_element(By.TAG_NAME, 'html')\n",
        "    html.send_keys(Keys.PAGE_DOWN)\n",
        "    time.sleep(2)\n",
        "\n",
        "time.sleep(5)\n",
        "driver.close()\n",
        "\n"
      ]
    },
    {
      "cell_type": "code",
      "execution_count": null,
      "id": "7aed7c85",
      "metadata": {
        "id": "7aed7c85"
      },
      "outputs": [],
      "source": [
        "from selenium import webdriver\n",
        "import time\n",
        "from selenium.webdriver.support.ui import WebDriverWait\n",
        "from lpa import lp\n",
        "from selenium.webdriver.common.keys import Keys\n",
        "\n",
        "driver = webdriver.Chrome()\n",
        "driver.get(\"https://linkedin.com/login\")\n",
        "driver.maximize_window()\n",
        "\n",
        "time.sleep(5)\n",
        "\n",
        "driver.find_element(By.NAME, 'session_key').send_keys('ormraat.pte@gmail.com')\n",
        "time.sleep(2)\n",
        "\n",
        "driver.find_element(By.NAME, 'session_password').send_keys(lp)\n",
        "time.sleep(2)\n",
        "driver.find_element(By.CLASS_NAME, 'btn__primary--large').click()\n"
      ]
    },
    {
      "cell_type": "code",
      "execution_count": null,
      "id": "8ca5097d",
      "metadata": {
        "id": "8ca5097d"
      },
      "outputs": [],
      "source": []
    },
    {
      "cell_type": "code",
      "execution_count": null,
      "id": "906335c2",
      "metadata": {
        "id": "906335c2"
      },
      "outputs": [],
      "source": []
    },
    {
      "cell_type": "code",
      "execution_count": null,
      "id": "6948ce05",
      "metadata": {
        "id": "6948ce05"
      },
      "outputs": [],
      "source": []
    },
    {
      "cell_type": "code",
      "execution_count": null,
      "id": "1d5f9ec4",
      "metadata": {
        "id": "1d5f9ec4"
      },
      "outputs": [],
      "source": []
    },
    {
      "cell_type": "code",
      "execution_count": null,
      "id": "f324c5b9",
      "metadata": {
        "id": "f324c5b9"
      },
      "outputs": [],
      "source": []
    },
    {
      "cell_type": "code",
      "execution_count": null,
      "id": "f41da7ba",
      "metadata": {
        "id": "f41da7ba"
      },
      "outputs": [],
      "source": []
    },
    {
      "cell_type": "code",
      "execution_count": null,
      "id": "b29583fd",
      "metadata": {
        "id": "b29583fd"
      },
      "outputs": [],
      "source": [
        "driver.find_element(\"class name\", 'ds-pagination__nav-link').click()"
      ]
    },
    {
      "cell_type": "code",
      "execution_count": null,
      "id": "ff3a367f",
      "metadata": {
        "id": "ff3a367f"
      },
      "outputs": [],
      "source": []
    },
    {
      "cell_type": "code",
      "execution_count": null,
      "id": "05ab1d46",
      "metadata": {
        "id": "05ab1d46"
      },
      "outputs": [],
      "source": [
        "ID = \"id\"\n",
        "NAME = \"name\"\n",
        "XPATH = \"xpath\"\n",
        "LINK_TEXT = \"link text\"\n",
        "PARTIAL_LINK_TEXT = \"partial link text\"\n",
        "TAG_NAME = \"tag name\"\n",
        "CLASS_NAME = \"class name\"\n",
        "CSS_SELECTOR = \"css selector\""
      ]
    },
    {
      "cell_type": "code",
      "execution_count": null,
      "id": "22d5e251",
      "metadata": {
        "id": "22d5e251"
      },
      "outputs": [],
      "source": []
    },
    {
      "cell_type": "code",
      "execution_count": null,
      "id": "29463ef5",
      "metadata": {
        "id": "29463ef5"
      },
      "outputs": [],
      "source": []
    },
    {
      "cell_type": "code",
      "execution_count": null,
      "id": "b36169ca",
      "metadata": {
        "id": "b36169ca"
      },
      "outputs": [],
      "source": [
        "#!pip install selenium\n",
        "#https://selenium-python.readthedocs.io/locating-elements.html\n",
        "\n",
        "ID = \"id\"\n",
        "NAME = \"name\"\n",
        "XPATH = \"xpath\"\n",
        "LINK_TEXT = \"link text\"\n",
        "PARTIAL_LINK_TEXT = \"partial link text\"\n",
        "TAG_NAME = \"tag name\"\n",
        "CLASS_NAME = \"class name\"\n",
        "CSS_SELECTOR = \"css selector\"\n"
      ]
    },
    {
      "cell_type": "code",
      "execution_count": null,
      "id": "a8ba428e",
      "metadata": {
        "id": "a8ba428e"
      },
      "outputs": [],
      "source": [
        "from selenium import webdriver\n",
        "import time\n",
        "\n",
        "driver = webdriver.Chrome()\n",
        "driver.get(\"https://ceu.edu/\")\n",
        "#driver.fullscreen_window()\n",
        "driver.maximize_window()\n",
        "\n",
        "print('sleep')\n",
        "time.sleep(10)\n",
        "driver.close()"
      ]
    },
    {
      "cell_type": "code",
      "execution_count": null,
      "id": "4c8a23fc",
      "metadata": {
        "scrolled": true,
        "id": "4c8a23fc"
      },
      "outputs": [],
      "source": [
        "from selenium import webdriver\n",
        "import time\n",
        "from selenium.webdriver.common.keys import Keys\n",
        "from selenium.webdriver.common.by import By\n",
        "\n",
        "\n",
        "\n",
        "driver = webdriver.Chrome()\n",
        "driver.get(\"https://www.economist.com/finance-and-economics/\")\n",
        "print('sleep')\n",
        "time.sleep(10)\n",
        "html = driver.find_element(By.TAG_NAME, 'html')\n",
        "html.send_keys(Keys.END)\n",
        "time.sleep(5)\n",
        "\n",
        "for i in range(1,5):\n",
        "    driver.find_element(By.CLASS_NAME ,\"ds-pagination__item-link\").click()\n",
        "    html = driver.find_element(By.TAG_NAME, 'html')\n",
        "    html.send_keys(Keys.END)\n",
        "    time.sleep(10)\n",
        "    page = driver.page_source\n",
        "    my_file = open('data_html/page_'+str(i)+'.html', 'w')\n",
        "    my_file.write(page)\n",
        "    my_file.close()\n",
        "\n",
        "driver.close()\n",
        "\n",
        "print('I am ready')"
      ]
    },
    {
      "cell_type": "code",
      "execution_count": null,
      "id": "f3d1466c",
      "metadata": {
        "id": "f3d1466c"
      },
      "outputs": [],
      "source": [
        "\n"
      ]
    },
    {
      "cell_type": "code",
      "execution_count": null,
      "id": "dd416761",
      "metadata": {
        "scrolled": true,
        "id": "dd416761"
      },
      "outputs": [],
      "source": [
        "from selenium import webdriver\n",
        "import time\n",
        "from selenium.webdriver.support.ui import WebDriverWait\n",
        "\n",
        "from selenium.webdriver.common.keys import Keys\n",
        "\n",
        "driver = webdriver.Chrome()\n",
        "driver.get(\"https://cointelegraph.com/\")\n",
        "driver.fullscreen_window()\n",
        "\n",
        "time.sleep(10)\n",
        "\n",
        "\n",
        "for i in range(1,10):\n",
        "    html = driver.find_element(By.TAG_NAME, 'html')\n",
        "    html.send_keys(Keys.PAGE_DOWN)\n",
        "    #    html.send_keys(Keys.END)\n",
        "    time.sleep(2)\n",
        "\n",
        "time.sleep(5)\n",
        "driver.close()\n",
        "\n",
        "\n"
      ]
    },
    {
      "cell_type": "code",
      "execution_count": null,
      "id": "bcaf434f",
      "metadata": {
        "id": "bcaf434f"
      },
      "outputs": [],
      "source": [
        "#linkedin\n",
        "from selenium import webdriver\n",
        "import time\n",
        "from selenium.webdriver.common.keys import Keys\n",
        "from lpa import lp\n",
        "start_url = \"https://www.linkedin.com\"\n",
        "driver = webdriver.Chrome()\n",
        "driver.get(start_url)\n",
        "#driver.fullscreen_window()\n",
        "driver.maximize_window()\n",
        "\n",
        "\n",
        "time.sleep(10)\n",
        "driver.find_element(By.NAME,\"session_key\").send_keys(\"......@gmail.com\")\n",
        "driver.find_element(By.NAME,\"session_password\").send_keys(lp)\n",
        "\n",
        "time.sleep(15)\n",
        "\n",
        "driver.find_element(By.CLASS_NAME, \"sign-in-form__submit-btn--full-width\").click()\n"
      ]
    },
    {
      "cell_type": "code",
      "execution_count": null,
      "id": "5c8937b8",
      "metadata": {
        "id": "5c8937b8"
      },
      "outputs": [],
      "source": []
    },
    {
      "cell_type": "markdown",
      "source": [
        "# Headless mode"
      ],
      "metadata": {
        "id": "fYnzKpNtGwCp"
      },
      "id": "fYnzKpNtGwCp"
    },
    {
      "cell_type": "code",
      "execution_count": null,
      "id": "cbcd0f25",
      "metadata": {
        "id": "cbcd0f25"
      },
      "outputs": [],
      "source": [
        "# !pip install pyvirtualdisplay\n",
        "# sudo apt-get install xvfb\n",
        "# https://selenium-python.readthedocs.io/api.html"
      ]
    },
    {
      "cell_type": "markdown",
      "source": [],
      "metadata": {
        "id": "SLkZ_yu0GzOc"
      },
      "id": "SLkZ_yu0GzOc"
    },
    {
      "cell_type": "code",
      "execution_count": null,
      "id": "b852ef99",
      "metadata": {
        "id": "b852ef99",
        "outputId": "f483f6de-470b-45f2-c176-1a282b67b41a"
      },
      "outputs": [
        {
          "data": {
            "text/plain": [
              "<pyvirtualdisplay.display.Display at 0x7ff51cb159d0>"
            ]
          },
          "execution_count": 26,
          "metadata": {},
          "output_type": "execute_result"
        }
      ],
      "source": [
        "import time\n",
        "from pyvirtualdisplay import Display\n",
        "display = Display(visible=0, size=(1920, 1080)).start()\n",
        "from selenium import webdriver\n",
        "driver = webdriver.Chrome()\n",
        "\n",
        "\n",
        "driver.get(\"https://www.bbc.com/\")\n",
        "time.sleep(15)\n",
        "\n",
        "page = driver.page_source\n",
        "\n",
        "file = open(\"/home/mihaly/python_codes/scraping2023/headlessbbcdemo.html\",'w',encoding='utf-8')\n",
        "file.write(page)\n",
        "file.close()\n",
        "driver.close()\n",
        "display.stop()"
      ]
    },
    {
      "cell_type": "code",
      "execution_count": null,
      "id": "5af99f00",
      "metadata": {
        "id": "5af99f00"
      },
      "outputs": [],
      "source": []
    }
  ],
  "metadata": {
    "kernelspec": {
      "display_name": "Python 3 (ipykernel)",
      "language": "python",
      "name": "python3"
    },
    "language_info": {
      "codemirror_mode": {
        "name": "ipython",
        "version": 3
      },
      "file_extension": ".py",
      "mimetype": "text/x-python",
      "name": "python",
      "nbconvert_exporter": "python",
      "pygments_lexer": "ipython3",
      "version": "3.9.12"
    },
    "colab": {
      "provenance": [],
      "include_colab_link": true
    }
  },
  "nbformat": 4,
  "nbformat_minor": 5
}